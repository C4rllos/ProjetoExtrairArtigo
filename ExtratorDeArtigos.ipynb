{
  "nbformat": 4,
  "nbformat_minor": 0,
  "metadata": {
    "colab": {
      "provenance": []
    },
    "kernelspec": {
      "name": "python3",
      "display_name": "Python 3"
    },
    "language_info": {
      "name": "python"
    }
  },
  "cells": [
    {
      "cell_type": "code",
      "execution_count": null,
      "metadata": {
        "id": "HiGxSWOcAUA0"
      },
      "outputs": [],
      "source": [
        "!pip install requests beautifulsoup langchain-openai\n",
        "!pip install langchain-openai\n",
        "!pip install --upgrade langchain-openai\n"
      ]
    },
    {
      "cell_type": "code",
      "source": [
        "from langchain_openai.chat_models.azure import AzureChatOpenAI\n",
        "import requests\n",
        "from bs4 import BeautifulSoup\n",
        "\n",
        "client = AzureChatOpenAI(\n",
        "    azure_endpoint=\"https://oai-dio-bootcamp-dev-cass-001.openai.azure.com/\",\n",
        "    api_key=\"CHAVEAPIKEY\", #chave provisória\n",
        "    api_version=\"2024-02-15-preview\",\n",
        "    deployment_name=\"gpt-4o-mini\",\n",
        "    max_retries=0\n",
        ")\n",
        "\n",
        "def extract_text_from_url(url):\n",
        "    response = requests.get(url)\n",
        "    soup = BeautifulSoup(response.content, 'html.parser')\n",
        "    return soup.get_text()\n",
        "\n",
        "def translate_article(text, lang):\n",
        "    messages = [\n",
        "        (\"system\", \"Você atua como tradutor de textos.\"),\n",
        "        (\"user\", f\"Traduza o seguinte texto para o idioma {lang} e responda em markdown: {text}\")\n",
        "    ]\n",
        "    print(client.invoke(messages).content)\n",
        "    return client.invoke(messages).content\n",
        "\n",
        "\n",
        "translate_article(\"Let's see if the deployment was succeeded.  \", \"português\")\n",
        "\n",
        "url = \"https://dev.to/urstrulyvishwak/isfunctions-in-javascript-5d0h\"\n",
        "text = extract_text_from_url(url)\n",
        "article = translate_article(text, \"pt-br\")\n",
        "\n",
        "print(article)\n"
      ],
      "metadata": {
        "id": "vpPTs-3PHkG8"
      },
      "execution_count": null,
      "outputs": []
    }
  ]
}